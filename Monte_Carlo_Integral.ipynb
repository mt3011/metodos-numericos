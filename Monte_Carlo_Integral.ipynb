{
  "nbformat": 4,
  "nbformat_minor": 0,
  "metadata": {
    "colab": {
      "provenance": [],
      "authorship_tag": "ABX9TyOofVAzwQexs+Wc0EkTUZ48",
      "include_colab_link": true
    },
    "kernelspec": {
      "name": "python3",
      "display_name": "Python 3"
    },
    "language_info": {
      "name": "python"
    }
  },
  "cells": [
    {
      "cell_type": "markdown",
      "metadata": {
        "id": "view-in-github",
        "colab_type": "text"
      },
      "source": [
        "<a href=\"https://colab.research.google.com/github/mt3011/metodos-numericos/blob/main/Monte_Carlo_Integral.ipynb\" target=\"_parent\"><img src=\"https://colab.research.google.com/assets/colab-badge.svg\" alt=\"Open In Colab\"/></a>"
      ]
    },
    {
      "cell_type": "markdown",
      "source": [
        "### Aplicação Método do Monte Carlo para Integrais Numéricas\n"
      ],
      "metadata": {
        "id": "6A9jzhJHg8PE"
      }
    },
    {
      "cell_type": "code",
      "source": [
        "import numpy as np\n",
        "import random\n",
        "\n",
        "def f(x):\n",
        "  return x**2"
      ],
      "metadata": {
        "id": "DRMbxpG0hs4V"
      },
      "execution_count": 32,
      "outputs": []
    },
    {
      "cell_type": "code",
      "source": [
        "b = 5\n",
        "a = 2\n",
        "def intR(a,b,N):\n",
        "  area = 0\n",
        "  dx = (b-a)/N\n",
        "  x = np.linspace(a,b,N)\n",
        "  for i in range(N - 1):\n",
        "    area = area + ( f(x[i + 1]) + f(x[i]) )*(dx/2)\n",
        "\n",
        "  return area\n",
        "\n",
        "def monte_carlo(a,b,N):\n",
        "  count = 0\n",
        "  base = b - a\n",
        "  altura = f(b) # Valido para função não negativa e sempre crescente\n",
        "\n",
        "  for i in range(N):\n",
        "    x = random.uniform(a, b)\n",
        "    y = random.uniform(0, f(b))\n",
        "    if y <= f(x):\n",
        "      count = count + 1\n",
        "  \n",
        "  probability = count/N\n",
        "\n",
        "  return base*altura*probability"
      ],
      "metadata": {
        "id": "I6RZCOa6hfvF"
      },
      "execution_count": 84,
      "outputs": []
    },
    {
      "cell_type": "code",
      "execution_count": null,
      "metadata": {
        "id": "Oq5HqOcvg4Ni"
      },
      "outputs": [],
      "source": [
        "# f(x) = x**2\n",
        "# 39, Valor exato"
      ]
    }
  ]
}